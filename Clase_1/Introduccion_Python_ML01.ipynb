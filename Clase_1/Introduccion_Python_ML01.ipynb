{
  "nbformat": 4,
  "nbformat_minor": 0,
  "metadata": {
    "colab": {
      "provenance": []
    },
    "kernelspec": {
      "name": "python3",
      "display_name": "Python 3"
    },
    "language_info": {
      "name": "python"
    }
  },
  "cells": [
    {
      "cell_type": "markdown",
      "source": [
        "# Introduccion a Python"
      ],
      "metadata": {
        "id": "QIOJNEj4LA0b"
      }
    },
    {
      "cell_type": "code",
      "execution_count": null,
      "metadata": {
        "colab": {
          "base_uri": "https://localhost:8080/"
        },
        "id": "VnPuZi5qKQr0",
        "outputId": "6679ba4a-ae41-4330-96af-67cf8ba52d91"
      },
      "outputs": [
        {
          "output_type": "stream",
          "name": "stdout",
          "text": [
            "Bienvenido a la clase de Introduccion\n"
          ]
        }
      ],
      "source": [
        "## mensajes de bienvenida\n",
        "print(\"Bienvenido a la clase de Introduccion\")"
      ]
    },
    {
      "cell_type": "code",
      "source": [
        "edad = 25\n",
        "nombre_completo = \"Rudy Manzaneda\"\n",
        "mensaje = f\"Hola, mi nombre es {nombre_completo} y tengo {edad} años\"\n",
        "print(mensaje)"
      ],
      "metadata": {
        "colab": {
          "base_uri": "https://localhost:8080/"
        },
        "id": "ebEiohLlLYgu",
        "outputId": "b00f02b5-2517-4019-d101-e1c44591ee7e"
      },
      "execution_count": null,
      "outputs": [
        {
          "output_type": "stream",
          "name": "stdout",
          "text": [
            "Hola, mi nombre es Rudy Manzaneda y tengo 25 años\n"
          ]
        }
      ]
    },
    {
      "cell_type": "markdown",
      "source": [
        "#Transformaciones de Cadenas"
      ],
      "metadata": {
        "id": "n8732jvhLj4v"
      }
    },
    {
      "cell_type": "code",
      "source": [
        "frase = \"Python es un lenguaje de programacion\"\n",
        "print(\"Mayusculas\", frase.upper())\n",
        "print(\"Minusculas\", frase.lower())\n",
        "print(\"Reemplazar\", frase.replace(\"Python\", \"Java\"))"
      ],
      "metadata": {
        "colab": {
          "base_uri": "https://localhost:8080/"
        },
        "id": "ltF3_EM4LqQH",
        "outputId": "dcd17975-5d2b-4e6d-c77b-13d4e4365996"
      },
      "execution_count": null,
      "outputs": [
        {
          "output_type": "stream",
          "name": "stdout",
          "text": [
            "Mayusculas PYTHON ES UN LENGUAJE DE PROGRAMACION\n",
            "Minusculas python es un lenguaje de programacion\n",
            "Reemplazar Java es un lenguaje de programacion\n"
          ]
        }
      ]
    },
    {
      "cell_type": "markdown",
      "source": [
        "#Variables, Tipos de Datos y Operadores"
      ],
      "metadata": {
        "id": "EFtab4lsL65w"
      }
    },
    {
      "cell_type": "code",
      "source": [
        "# Declaración de variables con diferentes tipos de datos\n",
        "numero_entero = 10          # int\n",
        "numero_decimal = 3.14       # float\n",
        "texto = \"Hola, Machine Learning\"  # str\n",
        "es_estudiante = True        # bool\n",
        "\n",
        "# Imprimir valores y tipos\n",
        "print(\"Número entero:\", numero_entero, \"| Tipo:\", type(numero_entero))\n",
        "print(\"Número decimal:\", numero_decimal, \"| Tipo:\", type(numero_decimal))\n",
        "print(\"Texto:\", texto, \"| Tipo:\", type(texto))\n",
        "print(\"¿Es estudiante?:\", es_estudiante, \"| Tipo:\", type(es_estudiante))"
      ],
      "metadata": {
        "colab": {
          "base_uri": "https://localhost:8080/"
        },
        "id": "Eb27emM9L_Ny",
        "outputId": "49ccd8bb-bbd0-4841-e6cb-6174901e7389"
      },
      "execution_count": null,
      "outputs": [
        {
          "output_type": "stream",
          "name": "stdout",
          "text": [
            "Número entero: 10 | Tipo: <class 'int'>\n",
            "Número decimal: 3.14 | Tipo: <class 'float'>\n",
            "Texto: Hola, Machine Learning | Tipo: <class 'str'>\n",
            "¿Es estudiante?: True | Tipo: <class 'bool'>\n"
          ]
        }
      ]
    },
    {
      "cell_type": "markdown",
      "source": [
        "📌 2. Operadores aritméticos"
      ],
      "metadata": {
        "id": "_fegMFbli9bo"
      }
    },
    {
      "cell_type": "code",
      "source": [
        "a = 15\n",
        "b = 4\n",
        "\n",
        "print(\"Suma:\", a + b)\n",
        "print(\"Resta:\", a - b)\n",
        "print(\"Multiplicación:\", a * b)\n",
        "print(\"División:\", a / b)      # resultado float\n",
        "print(\"División entera:\", a // b)  # solo la parte entera\n",
        "print(\"Módulo (residuo):\", a % b)\n",
        "print(\"Potencia:\", a ** b)"
      ],
      "metadata": {
        "colab": {
          "base_uri": "https://localhost:8080/"
        },
        "id": "GVJsIMVdjBuH",
        "outputId": "9e6f9312-fda9-465e-e478-d3d5a3109811"
      },
      "execution_count": null,
      "outputs": [
        {
          "output_type": "stream",
          "name": "stdout",
          "text": [
            "Suma: 19\n",
            "Resta: 11\n",
            "Multiplicación: 60\n",
            "División: 3.75\n",
            "División entera: 3\n",
            "Módulo (residuo): 3\n",
            "Potencia: 50625\n"
          ]
        }
      ]
    },
    {
      "cell_type": "markdown",
      "source": [
        "📌 3. Operadores de comparación"
      ],
      "metadata": {
        "id": "YGttlxFUjJNW"
      }
    },
    {
      "cell_type": "code",
      "source": [
        "x = 10\n",
        "y = 20\n",
        "\n",
        "print(\"¿x es igual a y?\", x == y)\n",
        "print(\"¿x es diferente de y?\", x != y)\n",
        "print(\"¿x es mayor que y?\", x > y)\n",
        "print(\"¿x es menor o igual que y?\", x <= y)"
      ],
      "metadata": {
        "colab": {
          "base_uri": "https://localhost:8080/"
        },
        "id": "feav8IRejGtW",
        "outputId": "f1bd22c3-c758-442b-91b3-ac1cb18e2814"
      },
      "execution_count": null,
      "outputs": [
        {
          "output_type": "stream",
          "name": "stdout",
          "text": [
            "¿x es igual a y? False\n",
            "¿x es diferente de y? True\n",
            "¿x es mayor que y? False\n",
            "¿x es menor o igual que y? True\n"
          ]
        }
      ]
    },
    {
      "cell_type": "markdown",
      "source": [
        "4. Operadores lógicos"
      ],
      "metadata": {
        "id": "X6pR4xAIjMtW"
      }
    },
    {
      "cell_type": "code",
      "source": [
        "p = True\n",
        "q = False\n",
        "\n",
        "print(\"AND lógico:\", p and q)   # Solo True si ambos son True\n",
        "print(\"OR lógico:\", p or q)     # True si al menos uno es True\n",
        "print(\"NOT lógico:\", not p)     # Invierte el valor lógico"
      ],
      "metadata": {
        "colab": {
          "base_uri": "https://localhost:8080/"
        },
        "id": "wsi5Gq4rjT4O",
        "outputId": "ce4932bb-77e8-4401-c0ab-c652f542b512"
      },
      "execution_count": null,
      "outputs": [
        {
          "output_type": "stream",
          "name": "stdout",
          "text": [
            "AND lógico: False\n",
            "OR lógico: True\n",
            "NOT lógico: False\n"
          ]
        }
      ]
    },
    {
      "cell_type": "markdown",
      "source": [
        " Suma de Dos numeros"
      ],
      "metadata": {
        "id": "2HX05XOLj0Pu"
      }
    },
    {
      "cell_type": "code",
      "source": [
        "num1 = int(input(\"Ingrese el primer número: \"))\n",
        "num2 = int(input(\"Ingrese el segundo número: \"))\n",
        "\n",
        "print(\"La suma es:\", num1 + num2)\n",
        "print(\"El producto es:\", num1 * num2)\n",
        "print(\"¿El primer número es mayor que el segundo?\", num1 > num2)"
      ],
      "metadata": {
        "colab": {
          "base_uri": "https://localhost:8080/"
        },
        "id": "HmozTJK7jYj-",
        "outputId": "7cd3fe70-99bd-4db3-b7fd-a2c5be903018"
      },
      "execution_count": null,
      "outputs": [
        {
          "output_type": "stream",
          "name": "stdout",
          "text": [
            "Ingrese el primer número: 5\n",
            "Ingrese el segundo número: 6\n",
            "La suma es: 11\n",
            "El producto es: 30\n",
            "¿El primer número es mayor que el segundo? False\n"
          ]
        }
      ]
    },
    {
      "cell_type": "markdown",
      "source": [
        "Condicional 'if'"
      ],
      "metadata": {
        "id": "YmxelJQkj4K-"
      }
    },
    {
      "cell_type": "code",
      "source": [
        "num = int(input(\"Ingrese un numero\"))\n",
        "#num = float(input(\"Ingrese un numero\"))\n",
        "##A=5\n",
        "##a=5\n",
        "##a_rt=5\n",
        "##a_rt2='5'\n",
        "#a=5  ##asignacion\n",
        "#a==5 ##comparacion\n",
        "#a==='5' ##comparacion exacta\n",
        "if num % 2 == 0:\n",
        "  print(\"El numero es par\")\n",
        "else:\n",
        "  print(\"El numero es impar\")\n"
      ],
      "metadata": {
        "colab": {
          "base_uri": "https://localhost:8080/"
        },
        "id": "dBSQ9tANjkg2",
        "outputId": "9de15906-3213-4872-859e-7eacd849cf55"
      },
      "execution_count": null,
      "outputs": [
        {
          "output_type": "stream",
          "name": "stdout",
          "text": [
            "Ingrese un numero7\n",
            "El numero es impar\n"
          ]
        }
      ]
    },
    {
      "cell_type": "markdown",
      "source": [
        "Estructura Repetitiva 'For'"
      ],
      "metadata": {
        "id": "Dp-tekI6j77V"
      }
    },
    {
      "cell_type": "code",
      "source": [
        "## bucle for\n",
        "for i in range(10):\n",
        "  print(i)"
      ],
      "metadata": {
        "colab": {
          "base_uri": "https://localhost:8080/"
        },
        "id": "yCz7VB92joRG",
        "outputId": "1486f7f2-7260-4eb8-a42f-b812c76b61e9"
      },
      "execution_count": null,
      "outputs": [
        {
          "output_type": "stream",
          "name": "stdout",
          "text": [
            "0\n",
            "1\n",
            "2\n",
            "3\n",
            "4\n",
            "5\n",
            "6\n",
            "7\n",
            "8\n",
            "9\n"
          ]
        }
      ]
    },
    {
      "cell_type": "code",
      "source": [
        "for a in range (1,11,1):\n",
        "  print(a)"
      ],
      "metadata": {
        "colab": {
          "base_uri": "https://localhost:8080/"
        },
        "id": "t5WOGnxnjsHQ",
        "outputId": "27e7e7f7-6ad8-4929-b1ab-8f5abb3cb32f"
      },
      "execution_count": null,
      "outputs": [
        {
          "output_type": "stream",
          "name": "stdout",
          "text": [
            "1\n",
            "2\n",
            "3\n",
            "4\n",
            "5\n",
            "6\n",
            "7\n",
            "8\n",
            "9\n",
            "10\n"
          ]
        }
      ]
    },
    {
      "cell_type": "markdown",
      "source": [
        "Estructura While"
      ],
      "metadata": {
        "id": "G5pwubNSkGk2"
      }
    },
    {
      "cell_type": "code",
      "source": [
        "a=0\n",
        "while a <10:\n",
        "  print(a)\n",
        "  ##a=a+1\n",
        "  a+=1"
      ],
      "metadata": {
        "colab": {
          "base_uri": "https://localhost:8080/"
        },
        "id": "IuOXOyLNjt1W",
        "outputId": "658c5683-9e76-4090-c435-ac53461bcce0"
      },
      "execution_count": null,
      "outputs": [
        {
          "output_type": "stream",
          "name": "stdout",
          "text": [
            "0\n",
            "1\n",
            "2\n",
            "3\n",
            "4\n",
            "5\n",
            "6\n",
            "7\n",
            "8\n",
            "9\n"
          ]
        }
      ]
    },
    {
      "cell_type": "markdown",
      "source": [
        "#Funciones"
      ],
      "metadata": {
        "id": "BhLU0JBnFUCS"
      }
    },
    {
      "cell_type": "code",
      "source": [
        "#  def nombre_funcion(paametros):\n",
        "  #bloque de codigo\n",
        "    #return resultado\n",
        "#Funcion de suma de dos numeros\n",
        "def sumar(a,b):\n",
        "  return a+b"
      ],
      "metadata": {
        "id": "mJEzOfSPFWKm"
      },
      "execution_count": 1,
      "outputs": []
    },
    {
      "cell_type": "code",
      "source": [
        "r=6\n",
        "s=9\n",
        "print(sumar(r,s))"
      ],
      "metadata": {
        "colab": {
          "base_uri": "https://localhost:8080/"
        },
        "id": "YKOdgbcNGByv",
        "outputId": "c57e123a-e9d1-46ad-b1fa-0941d31d2dff"
      },
      "execution_count": 2,
      "outputs": [
        {
          "output_type": "stream",
          "name": "stdout",
          "text": [
            "15\n"
          ]
        }
      ]
    },
    {
      "cell_type": "code",
      "source": [
        "#crear la funcion factorial\n",
        "def factorial(n):\n",
        "  for i in range(1,n):\n",
        "    n=n*i\n",
        "  return n"
      ],
      "metadata": {
        "id": "wiC3CAjIGYjH"
      },
      "execution_count": 3,
      "outputs": []
    },
    {
      "cell_type": "code",
      "source": [
        "num = int(input(\"Ingrese un numero\"))\n",
        "print(f\"Factorial de {num}!= {factorial(num)}\")"
      ],
      "metadata": {
        "colab": {
          "base_uri": "https://localhost:8080/"
        },
        "id": "OoxjRzaqGuT_",
        "outputId": "05a5b325-9e78-47b8-8cea-f407fba17e5c"
      },
      "execution_count": 5,
      "outputs": [
        {
          "output_type": "stream",
          "name": "stdout",
          "text": [
            "Ingrese un numero7\n",
            "Factorial de 7!= 5040\n"
          ]
        }
      ]
    },
    {
      "cell_type": "markdown",
      "source": [
        "#Estructuras de Datos"
      ],
      "metadata": {
        "id": "OW3unImDHWoq"
      }
    },
    {
      "cell_type": "markdown",
      "source": [
        "#Lista"
      ],
      "metadata": {
        "id": "eF72Iy3lHrrm"
      }
    },
    {
      "cell_type": "code",
      "source": [
        "# sedefine con []\n",
        "# es mutable --> intercambiar los vlaores y moverlos\n",
        "# diferentes tipo,\n",
        "# longitud y posiciones\n",
        "\n",
        "tecnologias =[\"Python\", \"java\", \"C-Sharp\", \"PhP\"]"
      ],
      "metadata": {
        "id": "XfCrB2WZHtu1"
      },
      "execution_count": 7,
      "outputs": []
    },
    {
      "cell_type": "markdown",
      "source": [],
      "metadata": {
        "id": "3_HS02ZOITa1"
      }
    },
    {
      "cell_type": "code",
      "source": [
        "len(tecnologias)"
      ],
      "metadata": {
        "colab": {
          "base_uri": "https://localhost:8080/"
        },
        "id": "UdSPXXl8IOGN",
        "outputId": "a6fbdc57-7eba-46fb-c04d-68f7de7381d5"
      },
      "execution_count": 8,
      "outputs": [
        {
          "output_type": "execute_result",
          "data": {
            "text/plain": [
              "4"
            ]
          },
          "metadata": {},
          "execution_count": 8
        }
      ]
    },
    {
      "cell_type": "code",
      "source": [
        "tecnologias[2]"
      ],
      "metadata": {
        "colab": {
          "base_uri": "https://localhost:8080/",
          "height": 36
        },
        "id": "3scXmHRgIbwV",
        "outputId": "6b2a5828-3357-4845-e1e0-9f3aa0d6f41a"
      },
      "execution_count": 13,
      "outputs": [
        {
          "output_type": "execute_result",
          "data": {
            "text/plain": [
              "'C-Sharp'"
            ],
            "application/vnd.google.colaboratory.intrinsic+json": {
              "type": "string"
            }
          },
          "metadata": {},
          "execution_count": 13
        }
      ]
    },
    {
      "cell_type": "code",
      "source": [
        "tecnologias[-1]"
      ],
      "metadata": {
        "colab": {
          "base_uri": "https://localhost:8080/",
          "height": 36
        },
        "id": "kybTFT-OIs7O",
        "outputId": "64ae7337-c970-4cb2-eb8a-304577c9956a"
      },
      "execution_count": 14,
      "outputs": [
        {
          "output_type": "execute_result",
          "data": {
            "text/plain": [
              "'PhP'"
            ],
            "application/vnd.google.colaboratory.intrinsic+json": {
              "type": "string"
            }
          },
          "metadata": {},
          "execution_count": 14
        }
      ]
    },
    {
      "cell_type": "code",
      "source": [
        "tecnologias[1:3]"
      ],
      "metadata": {
        "colab": {
          "base_uri": "https://localhost:8080/"
        },
        "id": "wBBNwQCmJkm9",
        "outputId": "dc6cb7f2-7966-4297-e708-2ce2eece0aae"
      },
      "execution_count": 15,
      "outputs": [
        {
          "output_type": "execute_result",
          "data": {
            "text/plain": [
              "['java', 'C-Sharp']"
            ]
          },
          "metadata": {},
          "execution_count": 15
        }
      ]
    },
    {
      "cell_type": "code",
      "source": [
        "tecnologias[::-1]"
      ],
      "metadata": {
        "colab": {
          "base_uri": "https://localhost:8080/"
        },
        "id": "JJDYDSuSJvon",
        "outputId": "704dfe4a-6435-472b-fdb7-e5b30f0d61f5"
      },
      "execution_count": 16,
      "outputs": [
        {
          "output_type": "execute_result",
          "data": {
            "text/plain": [
              "['PhP', 'C-Sharp', 'java', 'Python']"
            ]
          },
          "metadata": {},
          "execution_count": 16
        }
      ]
    },
    {
      "cell_type": "code",
      "source": [
        "for tecnologia in tecnologias:\n",
        "  print(tecnologia)"
      ],
      "metadata": {
        "colab": {
          "base_uri": "https://localhost:8080/"
        },
        "id": "UMxM1X04J9IG",
        "outputId": "c17e00ba-9f14-4ca6-ab9d-5c1fe0964854"
      },
      "execution_count": 17,
      "outputs": [
        {
          "output_type": "stream",
          "name": "stdout",
          "text": [
            "Python\n",
            "java\n",
            "C-Sharp\n",
            "PhP\n"
          ]
        }
      ]
    },
    {
      "cell_type": "code",
      "source": [
        "tecnologias.append(\"JavaScript\")"
      ],
      "metadata": {
        "id": "IlHwPDhJKS4W"
      },
      "execution_count": 18,
      "outputs": []
    },
    {
      "cell_type": "code",
      "source": [
        "tecnologias"
      ],
      "metadata": {
        "colab": {
          "base_uri": "https://localhost:8080/"
        },
        "id": "wO04bCsQKZVd",
        "outputId": "3472bbc6-aaab-44dd-e5a4-00c595146574"
      },
      "execution_count": 19,
      "outputs": [
        {
          "output_type": "execute_result",
          "data": {
            "text/plain": [
              "['Python', 'java', 'C-Sharp', 'PhP', 'JavaScript']"
            ]
          },
          "metadata": {},
          "execution_count": 19
        }
      ]
    },
    {
      "cell_type": "code",
      "source": [
        "len(tecnologias)"
      ],
      "metadata": {
        "colab": {
          "base_uri": "https://localhost:8080/"
        },
        "id": "CfBNjojGKbrU",
        "outputId": "ddd834fe-4560-4813-d0bb-bb1af194926e"
      },
      "execution_count": 20,
      "outputs": [
        {
          "output_type": "execute_result",
          "data": {
            "text/plain": [
              "5"
            ]
          },
          "metadata": {},
          "execution_count": 20
        }
      ]
    },
    {
      "cell_type": "markdown",
      "source": [
        "Listas por Comprehension"
      ],
      "metadata": {
        "id": "zZjB26bMKt1v"
      }
    },
    {
      "cell_type": "code",
      "source": [
        "numeros =[1,2,3,4,5]\n",
        "#for x in numeros\n",
        " # x=x**2\n",
        " #[expresion for elemento in iterador  if condicional]\n",
        "cuadrados =[x**2 for x in numeros if x %2==0]\n",
        "print(cuadrados)"
      ],
      "metadata": {
        "colab": {
          "base_uri": "https://localhost:8080/"
        },
        "id": "RxmN1yQAKvuE",
        "outputId": "77638265-9bd5-4c49-8dbc-657b55c9d424"
      },
      "execution_count": 22,
      "outputs": [
        {
          "output_type": "stream",
          "name": "stdout",
          "text": [
            "[4, 16]\n"
          ]
        }
      ]
    },
    {
      "cell_type": "markdown",
      "source": [
        "Tuplas"
      ],
      "metadata": {
        "id": "QdK1NlQWMAEe"
      }
    },
    {
      "cell_type": "code",
      "source": [
        "# estructura simple que es de vlaores fijos\n",
        "# ordenada\n",
        "# inmutable\n",
        "## se maneja con parentesis\n",
        "tupla = (1,3)\n",
        "tupla"
      ],
      "metadata": {
        "colab": {
          "base_uri": "https://localhost:8080/"
        },
        "id": "L8ULlNSDL9LH",
        "outputId": "6435d47c-0358-41d9-b4b6-7a2889ba1a20"
      },
      "execution_count": 23,
      "outputs": [
        {
          "output_type": "execute_result",
          "data": {
            "text/plain": [
              "(1, 3)"
            ]
          },
          "metadata": {},
          "execution_count": 23
        }
      ]
    },
    {
      "cell_type": "code",
      "source": [
        "tupla3= (4,2,7)\n",
        "tupla3"
      ],
      "metadata": {
        "colab": {
          "base_uri": "https://localhost:8080/"
        },
        "id": "IVIfC-dDMb2G",
        "outputId": "01f74c00-9070-41f6-be16-b38ad8684539"
      },
      "execution_count": 24,
      "outputs": [
        {
          "output_type": "execute_result",
          "data": {
            "text/plain": [
              "(4, 2, 7)"
            ]
          },
          "metadata": {},
          "execution_count": 24
        }
      ]
    },
    {
      "cell_type": "code",
      "source": [
        "colores = (\"rojo\", \"verde\", \"azul\")\n",
        "colores[-1]"
      ],
      "metadata": {
        "colab": {
          "base_uri": "https://localhost:8080/",
          "height": 36
        },
        "id": "JanS4zU1M0mg",
        "outputId": "6bfe7141-77fb-4b9d-a915-056bb0044f1d"
      },
      "execution_count": 28,
      "outputs": [
        {
          "output_type": "execute_result",
          "data": {
            "text/plain": [
              "'azul'"
            ],
            "application/vnd.google.colaboratory.intrinsic+json": {
              "type": "string"
            }
          },
          "metadata": {},
          "execution_count": 28
        }
      ]
    },
    {
      "cell_type": "code",
      "source": [
        "t=(1,2,3)\n",
        "lista= list(t)\n",
        "lista"
      ],
      "metadata": {
        "colab": {
          "base_uri": "https://localhost:8080/"
        },
        "id": "czWnMWBzNiFY",
        "outputId": "a244043e-4475-4a71-ce52-c1dd6ca3c20f"
      },
      "execution_count": 29,
      "outputs": [
        {
          "output_type": "execute_result",
          "data": {
            "text/plain": [
              "[1, 2, 3]"
            ]
          },
          "metadata": {},
          "execution_count": 29
        }
      ]
    },
    {
      "cell_type": "code",
      "source": [
        "lista[0]=99"
      ],
      "metadata": {
        "id": "pETbkV1lNosU"
      },
      "execution_count": 30,
      "outputs": []
    },
    {
      "cell_type": "code",
      "source": [
        "t = tuple(lista)"
      ],
      "metadata": {
        "id": "U4h3SN9ONt1t"
      },
      "execution_count": 31,
      "outputs": []
    },
    {
      "cell_type": "code",
      "source": [
        "t"
      ],
      "metadata": {
        "colab": {
          "base_uri": "https://localhost:8080/"
        },
        "id": "9388sKsYNxv0",
        "outputId": "d9a87445-6b0b-4d81-84a6-191997f5e983"
      },
      "execution_count": 32,
      "outputs": [
        {
          "output_type": "execute_result",
          "data": {
            "text/plain": [
              "(99, 2, 3)"
            ]
          },
          "metadata": {},
          "execution_count": 32
        }
      ]
    },
    {
      "cell_type": "markdown",
      "source": [
        "Diccionarios"
      ],
      "metadata": {
        "id": "lxkT6FHcN-qB"
      }
    },
    {
      "cell_type": "code",
      "source": [
        "## son estructuras basadas en clave:valor\n",
        "# cada clave es unica\n",
        "# pero los valores se pueden repetir\n",
        "#pueden existir diferntes tipos de datos en el diccionario\n",
        "# se define con llaves\n",
        "persona={\n",
        "    \"nombre\":\"Rudy\",\n",
        "    \"edad\":25,\n",
        "    \"ciudad\":\"La Paz\",\n",
        "    \"habilitado\":True\n",
        "}\n",
        "\n",
        "persona"
      ],
      "metadata": {
        "colab": {
          "base_uri": "https://localhost:8080/"
        },
        "id": "6HjaXQl-N_tW",
        "outputId": "68008288-da65-4b3c-9633-c44d512279ac"
      },
      "execution_count": 33,
      "outputs": [
        {
          "output_type": "execute_result",
          "data": {
            "text/plain": [
              "{'nombre': 'Rudy', 'edad': 25, 'ciudad': 'La Paz', 'habilitado': True}"
            ]
          },
          "metadata": {},
          "execution_count": 33
        }
      ]
    },
    {
      "cell_type": "code",
      "source": [
        "persona['ciudad']"
      ],
      "metadata": {
        "colab": {
          "base_uri": "https://localhost:8080/",
          "height": 36
        },
        "id": "dDabPr1yPAAW",
        "outputId": "aa8ccfcf-d4ff-475e-821a-fa4ccc85e015"
      },
      "execution_count": 35,
      "outputs": [
        {
          "output_type": "execute_result",
          "data": {
            "text/plain": [
              "'La Paz'"
            ],
            "application/vnd.google.colaboratory.intrinsic+json": {
              "type": "string"
            }
          },
          "metadata": {},
          "execution_count": 35
        }
      ]
    },
    {
      "cell_type": "code",
      "source": [
        "persona.get(\"pais\",\"No esta especificado\")"
      ],
      "metadata": {
        "colab": {
          "base_uri": "https://localhost:8080/",
          "height": 36
        },
        "id": "8-6pEMU7PLOm",
        "outputId": "5e4e842d-890b-4163-de36-3f65f3ebdc6c"
      },
      "execution_count": 37,
      "outputs": [
        {
          "output_type": "execute_result",
          "data": {
            "text/plain": [
              "'No esta especificado'"
            ],
            "application/vnd.google.colaboratory.intrinsic+json": {
              "type": "string"
            }
          },
          "metadata": {},
          "execution_count": 37
        }
      ]
    },
    {
      "cell_type": "code",
      "source": [
        "estudiantes={\n",
        "    \"Juan\":[45,78,90],\n",
        "    \"Ana\":[98,0, 99],\n",
        "    \"Pedro\":[92,81]\n",
        "}"
      ],
      "metadata": {
        "id": "J77y6mBcPcf7"
      },
      "execution_count": 39,
      "outputs": []
    },
    {
      "cell_type": "code",
      "source": [
        "estudiantes[\"Juan\"]"
      ],
      "metadata": {
        "colab": {
          "base_uri": "https://localhost:8080/"
        },
        "id": "JHZbYuqPPrKE",
        "outputId": "32e86ff3-58d5-44f7-f86d-746c598e21d4"
      },
      "execution_count": 40,
      "outputs": [
        {
          "output_type": "execute_result",
          "data": {
            "text/plain": [
              "[45, 78, 90]"
            ]
          },
          "metadata": {},
          "execution_count": 40
        }
      ]
    },
    {
      "cell_type": "code",
      "source": [
        "empleados = {\n",
        "    \"empleado_1\": {  # Clave del primer empleado\n",
        "        \"nombre\": \"Luis\",\n",
        "        \"apellido\": \"Dominguez\",\n",
        "        \"edad\": 37,\n",
        "        \"ciudad\": \"Cochabamba\",\n",
        "        \"ocupacion\": \"Ingeniero\"\n",
        "    },\n",
        "    \"empleado_2\": {  # Clave del segundo empleado\n",
        "        \"nombre\": \"Ramiro\",\n",
        "        \"apellido\": \"Veizaga\",\n",
        "        \"edad\": 40,\n",
        "        \"ciudad\": \"La Paz\",\n",
        "        \"ocupacion\": \"Médico\"\n",
        "    }\n",
        "}"
      ],
      "metadata": {
        "id": "iHvyqukYQdBj"
      },
      "execution_count": 41,
      "outputs": []
    },
    {
      "cell_type": "code",
      "source": [
        "empleados"
      ],
      "metadata": {
        "colab": {
          "base_uri": "https://localhost:8080/"
        },
        "id": "klLUrVFNQka1",
        "outputId": "71ebc6e1-c0d9-41dc-d8ea-7a773e7ffa22"
      },
      "execution_count": 42,
      "outputs": [
        {
          "output_type": "execute_result",
          "data": {
            "text/plain": [
              "{'empleado_1': {'nombre': 'Luis',\n",
              "  'apellido': 'Dominguez',\n",
              "  'edad': 37,\n",
              "  'ciudad': 'Cochabamba',\n",
              "  'ocupacion': 'Ingeniero'},\n",
              " 'empleado_2': {'nombre': 'Ramiro',\n",
              "  'apellido': 'Veizaga',\n",
              "  'edad': 40,\n",
              "  'ciudad': 'La Paz',\n",
              "  'ocupacion': 'Médico'}}"
            ]
          },
          "metadata": {},
          "execution_count": 42
        }
      ]
    },
    {
      "cell_type": "code",
      "source": [
        "print(f\"La profesión del empleado {empleados['empleado_2']['nombre']} es {empleados['empleado_2']['ocupacion']}\")\n"
      ],
      "metadata": {
        "colab": {
          "base_uri": "https://localhost:8080/"
        },
        "id": "hXnxUm1bQpRX",
        "outputId": "bd334160-f971-4460-d26f-dd2b6f5d25a1"
      },
      "execution_count": 43,
      "outputs": [
        {
          "output_type": "stream",
          "name": "stdout",
          "text": [
            "La profesión del empleado Ramiro es Médico\n"
          ]
        }
      ]
    },
    {
      "cell_type": "code",
      "source": [
        "empleados.keys()"
      ],
      "metadata": {
        "colab": {
          "base_uri": "https://localhost:8080/"
        },
        "id": "owFoUVu4QxOe",
        "outputId": "42cb3dd2-ecaf-4f68-aeee-75ece32731e4"
      },
      "execution_count": 44,
      "outputs": [
        {
          "output_type": "execute_result",
          "data": {
            "text/plain": [
              "dict_keys(['empleado_1', 'empleado_2'])"
            ]
          },
          "metadata": {},
          "execution_count": 44
        }
      ]
    },
    {
      "cell_type": "code",
      "source": [
        "empleados.values()"
      ],
      "metadata": {
        "colab": {
          "base_uri": "https://localhost:8080/"
        },
        "id": "P-7Ne6ilQzjN",
        "outputId": "336e437d-8541-40d1-ac46-9f5ad274edf0"
      },
      "execution_count": 45,
      "outputs": [
        {
          "output_type": "execute_result",
          "data": {
            "text/plain": [
              "dict_values([{'nombre': 'Luis', 'apellido': 'Dominguez', 'edad': 37, 'ciudad': 'Cochabamba', 'ocupacion': 'Ingeniero'}, {'nombre': 'Ramiro', 'apellido': 'Veizaga', 'edad': 40, 'ciudad': 'La Paz', 'ocupacion': 'Médico'}])"
            ]
          },
          "metadata": {},
          "execution_count": 45
        }
      ]
    },
    {
      "cell_type": "code",
      "source": [
        "empleados.items()"
      ],
      "metadata": {
        "colab": {
          "base_uri": "https://localhost:8080/"
        },
        "id": "ATpKlzgBQ4PE",
        "outputId": "537bf06f-5f25-4c33-f708-64f9deedea61"
      },
      "execution_count": 46,
      "outputs": [
        {
          "output_type": "execute_result",
          "data": {
            "text/plain": [
              "dict_items([('empleado_1', {'nombre': 'Luis', 'apellido': 'Dominguez', 'edad': 37, 'ciudad': 'Cochabamba', 'ocupacion': 'Ingeniero'}), ('empleado_2', {'nombre': 'Ramiro', 'apellido': 'Veizaga', 'edad': 40, 'ciudad': 'La Paz', 'ocupacion': 'Médico'})])"
            ]
          },
          "metadata": {},
          "execution_count": 46
        }
      ]
    }
  ]
}